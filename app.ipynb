{
 "cells": [
  {
   "cell_type": "markdown",
   "id": "4dee0d17",
   "metadata": {},
   "source": [
    "### Importing Libraries"
   ]
  },
  {
   "cell_type": "code",
   "execution_count": 30,
   "id": "718e07dd",
   "metadata": {},
   "outputs": [],
   "source": [
    "import pandas as pd\n",
    "import numpy as np"
   ]
  },
  {
   "cell_type": "markdown",
   "id": "e62224e7",
   "metadata": {},
   "source": [
    "### Importing the dataset"
   ]
  },
  {
   "cell_type": "code",
   "execution_count": 31,
   "id": "1050fdcb",
   "metadata": {},
   "outputs": [],
   "source": [
    "dataset = pd.read_csv('boston.csv')\n",
    "X = dataset.iloc[:,:-1].values\n",
    "y = dataset.iloc[:,-1].values"
   ]
  },
  {
   "cell_type": "markdown",
   "id": "87ddffde",
   "metadata": {},
   "source": [
    "### Spliting dataset into Training and Testing set"
   ]
  },
  {
   "cell_type": "code",
   "execution_count": 32,
   "id": "c5fa371a",
   "metadata": {},
   "outputs": [],
   "source": [
    "from sklearn.model_selection import train_test_split\n",
    "X_train, X_test, y_train, y_test = train_test_split(X, y, test_size = 0.2, random_state = 0)"
   ]
  },
  {
   "cell_type": "markdown",
   "id": "4463ade2",
   "metadata": {},
   "source": [
    "### Training the Multiple Linear Regression model on the Training set"
   ]
  },
  {
   "cell_type": "code",
   "execution_count": 33,
   "id": "b84f79c5",
   "metadata": {},
   "outputs": [],
   "source": [
    "from Muitple_Linear_regresion import Muiltple_Linear_Regression as MLR\n",
    "reg = MLR()\n",
    "reg.fit(X_train,y_train)"
   ]
  },
  {
   "cell_type": "markdown",
   "id": "ba792e29",
   "metadata": {},
   "source": [
    "### Predicting the Test set results"
   ]
  },
  {
   "cell_type": "code",
   "execution_count": 34,
   "id": "18101350",
   "metadata": {},
   "outputs": [],
   "source": [
    "y_pred = reg.predict(X_test)"
   ]
  },
  {
   "cell_type": "code",
   "execution_count": 35,
   "id": "6d949b07",
   "metadata": {},
   "outputs": [
    {
     "name": "stdout",
     "output_type": "stream",
     "text": [
      "[[24.89 22.6 ]\n",
      " [23.72 50.  ]\n",
      " [29.36 23.  ]\n",
      " [12.12  8.3 ]\n",
      " [21.44 21.2 ]\n",
      " [19.28 19.9 ]\n",
      " [20.5  20.6 ]\n",
      " [21.36 18.7 ]\n",
      " [18.9  16.1 ]\n",
      " [19.93 18.6 ]\n",
      " [ 5.13  8.8 ]\n",
      " [16.39 17.2 ]\n",
      " [17.08 14.9 ]\n",
      " [ 5.59 10.5 ]\n",
      " [40.   50.  ]\n",
      " [32.5  29.  ]\n",
      " [22.46 23.  ]\n",
      " [36.85 33.3 ]\n",
      " [30.86 29.4 ]\n",
      " [23.15 21.  ]\n",
      " [24.77 23.8 ]\n",
      " [24.67 19.1 ]\n",
      " [20.6  20.4 ]\n",
      " [30.35 29.1 ]\n",
      " [22.42 19.3 ]\n",
      " [10.23 23.1 ]\n",
      " [17.65 19.6 ]\n",
      " [18.27 19.4 ]\n",
      " [35.53 38.7 ]\n",
      " [20.96 18.7 ]\n",
      " [18.3  14.6 ]\n",
      " [17.79 20.  ]\n",
      " [19.97 20.5 ]\n",
      " [24.06 20.1 ]\n",
      " [29.1  23.6 ]\n",
      " [19.28 16.8 ]\n",
      " [11.16  5.6 ]\n",
      " [24.58 50.  ]\n",
      " [17.59 14.5 ]\n",
      " [15.49 13.3 ]\n",
      " [26.21 23.9 ]\n",
      " [20.86 20.  ]\n",
      " [22.31 19.8 ]\n",
      " [15.61 13.8 ]\n",
      " [23.   16.5 ]\n",
      " [25.17 21.6 ]\n",
      " [20.11 20.3 ]\n",
      " [22.9  17.  ]\n",
      " [10.04 11.8 ]\n",
      " [24.29 27.5 ]\n",
      " [20.94 15.6 ]\n",
      " [17.35 23.1 ]\n",
      " [24.52 24.3 ]\n",
      " [29.95 42.8 ]\n",
      " [13.43 15.6 ]\n",
      " [21.73 21.7 ]\n",
      " [20.79 17.1 ]\n",
      " [15.5  17.2 ]\n",
      " [13.99 15.  ]\n",
      " [22.18 21.7 ]\n",
      " [17.73 18.6 ]\n",
      " [21.59 21.  ]\n",
      " [32.91 33.1 ]\n",
      " [31.11 31.5 ]\n",
      " [17.73 20.1 ]\n",
      " [32.76 29.8 ]\n",
      " [18.71 15.2 ]\n",
      " [19.79 15.  ]\n",
      " [19.03 27.5 ]\n",
      " [22.9  22.6 ]\n",
      " [22.96 20.  ]\n",
      " [24.03 21.4 ]\n",
      " [30.73 23.5 ]\n",
      " [28.83 31.2 ]\n",
      " [25.9  23.7 ]\n",
      " [ 5.23  7.4 ]\n",
      " [36.72 48.3 ]\n",
      " [23.77 24.4 ]\n",
      " [27.27 22.6 ]\n",
      " [19.29 18.3 ]\n",
      " [28.62 23.3 ]\n",
      " [19.18 17.1 ]\n",
      " [18.97 27.9 ]\n",
      " [37.82 44.8 ]\n",
      " [39.22 50.  ]\n",
      " [23.71 23.  ]\n",
      " [24.93 21.4 ]\n",
      " [15.89 10.2 ]\n",
      " [26.1  23.3 ]\n",
      " [16.69 23.2 ]\n",
      " [15.84 18.9 ]\n",
      " [13.11 13.4 ]\n",
      " [24.72 21.9 ]\n",
      " [31.25 24.8 ]\n",
      " [22.17 11.9 ]\n",
      " [20.25 24.3 ]\n",
      " [ 0.59 13.8 ]\n",
      " [25.44 24.7 ]\n",
      " [15.57 14.1 ]\n",
      " [17.94 18.7 ]\n",
      " [25.31 28.1 ]\n",
      " [22.37 19.8 ]]\n"
     ]
    }
   ],
   "source": [
    "np.set_printoptions(precision=2)\n",
    "print(np.concatenate((y_pred.reshape(len(y_pred),1), y_test.reshape(len(y_test),1)),1))"
   ]
  },
  {
   "cell_type": "markdown",
   "id": "01e319a4",
   "metadata": {},
   "source": [
    "### Accuracy"
   ]
  },
  {
   "cell_type": "code",
   "execution_count": 36,
   "id": "c71c3da3",
   "metadata": {},
   "outputs": [],
   "source": [
    "def r2_score(y_true, y_pred):\n",
    "    ss_res = np.sum((y_true - y_pred) ** 2)  # Residual sum of squares\n",
    "    ss_tot = np.sum((y_true - np.mean(y_true)) ** 2)  # Total sum of squares\n",
    "    return 1 - (ss_res / ss_tot)"
   ]
  },
  {
   "cell_type": "code",
   "execution_count": 37,
   "id": "2c02fc44",
   "metadata": {},
   "outputs": [
    {
     "name": "stdout",
     "output_type": "stream",
     "text": [
      "0.5892223849172102\n"
     ]
    }
   ],
   "source": [
    "print(r2_score(y_test,y_pred))"
   ]
  }
 ],
 "metadata": {
  "kernelspec": {
   "display_name": "Python 3",
   "language": "python",
   "name": "python3"
  },
  "language_info": {
   "codemirror_mode": {
    "name": "ipython",
    "version": 3
   },
   "file_extension": ".py",
   "mimetype": "text/x-python",
   "name": "python",
   "nbconvert_exporter": "python",
   "pygments_lexer": "ipython3",
   "version": "3.11.0"
  }
 },
 "nbformat": 4,
 "nbformat_minor": 5
}
